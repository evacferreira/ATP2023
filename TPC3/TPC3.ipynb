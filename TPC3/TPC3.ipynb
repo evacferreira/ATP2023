{
 "cells": [
  {
   "cell_type": "markdown",
   "metadata": {},
   "source": [
    "## TPC3: Adivinha o número!?\n",
    "\n",
    "Desenvolve em Python o código necessário para o jogo do Adivinha o número: \n",
    "* O jogo deverá ter dois modos: o computador tenta acertar no número que o jogador pensou ou, o jogador tenta acertar no número que o computador pensou; \n",
    "* No fim, o programa deverá indicar quantas tentativas foram realizadas para chegar ao resultado;\n",
    "* O Jogo: \n",
    "    - o utilizador pensa num número entre 0 e 100;\n",
    "    - o computador tenta adivinhar indicando um número do intervalo;\n",
    "    - o utilizador indica se o número em que pensou é **maior**, **menor**, ou se o computador **acertou**;\n",
    "    - ao terminar, o programa imprime o número de tentativas que o computador teve de fazer até chegar ao número.\n",
    "\n",
    "Que conclusão podes tirar sobre o número de tentativas necessárias para um número entre 0 e 100? E se fosse entre 0 e 1000?"
   ]
  },
  {
   "cell_type": "code",
   "execution_count": 2,
   "metadata": {},
   "outputs": [
    {
     "name": "stdout",
     "output_type": "stream",
     "text": [
      "Bem-vindo!Escolha o modo de jogo que pretende jogar.\n",
      "o número é maior que 50\n",
      "o número é menor que 75\n",
      "o número é maior que 65\n",
      "o número é menor que 7070\n",
      "o número é menor que 70\n",
      "o número é menor que 68\n",
      "Parabéns!Acertaste no número em 6 tentativas\n"
     ]
    }
   ],
   "source": [
    "print (\"Bem-vindo!Escolha o modo de jogo que pretende jogar.\")\n",
    "modo = int(input(\"Qual o modo que quer escolher? 0 - adivinha o número do computador; 1 - o computador adivinha o teu número\"))\n",
    "menor = 0\n",
    "maior = 100\n",
    "tentativas = 0\n",
    "import random\n",
    "if modo == 0:\n",
    "    númeropc = int(random.randrange(0,100))\n",
    "    x= int(input(\"escolhe um número\"))\n",
    "    while x != númeropc:\n",
    "        tentativas=tentativas +1\n",
    "        if númeropc < x:\n",
    "          print(\"o número é menor que \" + str(x))\n",
    "        elif númeropc > x:\n",
    "          print (\"o número é maior que \" + str(x))      \n",
    "        x=int(input(\"Tente novamente!Escolha outro número.\"))\n",
    "    print(\"Parabéns!Acertaste no número em \" + str(tentativas) + \" tentativas\")\n",
    "elif modo == 1:\n",
    "    print (\"Escolha um número entre 0 e 100 para que o computador adivinhe.\")\n",
    "    maior = 100\n",
    "    menor = 0\n",
    "    resposta = str()\n",
    "    acertou = str(\"acertou\")\n",
    "    while resposta != (\"acertou\"):\n",
    "      x = int (( maior + menor) / 2 )\n",
    "      resposta = input(\"o seu número é \" + str(x) + \"?\")\n",
    "      if resposta == \"maior\":\n",
    "        menor = x\n",
    "      elif resposta == \"menor\":\n",
    "        maior = x\n",
    "      tentativas= tentativas + 1\n",
    "    print (\"O computador adivinhou o teu número em \" + str(tentativas) + \" tentativas\")"
   ]
  }
 ],
 "metadata": {
  "kernelspec": {
   "display_name": "Python 3",
   "language": "python",
   "name": "python3"
  },
  "language_info": {
   "name": "python",
   "version": "3.11.5"
  },
  "orig_nbformat": 4
 },
 "nbformat": 4,
 "nbformat_minor": 2
}
