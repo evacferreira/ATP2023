{
 "cells": [
  {
   "cell_type": "markdown",
   "metadata": {},
   "source": [
    "## TPC8: Teste de aferição\n",
    "\n",
    "Resolva os problemas apresentados a seguir."
   ]
  },
  {
   "cell_type": "markdown",
   "metadata": {},
   "source": [
    "### tpc-1. Especifique as seguintes listas em compreensão:"
   ]
  },
  {
   "cell_type": "markdown",
   "metadata": {},
   "source": [
    "#### a) Lista formada pelos elementos que não são comuns às duas listas:"
   ]
  },
  {
   "cell_type": "code",
   "execution_count": 2,
   "metadata": {},
   "outputs": [
    {
     "name": "stdout",
     "output_type": "stream",
     "text": [
      "[4, 6]\n"
     ]
    }
   ],
   "source": [
    "lista1 = [1, 2, 3, 4, 6]\n",
    "lista2 = [4, 5, 6, 7, 8] \n",
    "\n",
    "def comuns(lista1, lista2):\n",
    "    comuns=[]\n",
    "    for n in lista1:\n",
    "        if n in lista2:\n",
    "            comuns.append(n)\n",
    "        \n",
    "    return comuns\n",
    "\n",
    "print(comuns(lista1,lista2))"
   ]
  },
  {
   "cell_type": "markdown",
   "metadata": {},
   "source": [
    "#### b) Lista formada pelas palavras do texto compostas por mais de 3 letras:"
   ]
  },
  {
   "cell_type": "code",
   "execution_count": 11,
   "metadata": {},
   "outputs": [
    {
     "name": "stdout",
     "output_type": "stream",
     "text": [
      "['Vivia', 'poucos', 'anos', 'algures', 'concelho', 'Ribatejo', 'pequeno', 'lavrador', 'negociante', 'gado', 'chamado', 'Manuel', 'Peres', 'Vigário']\n"
     ]
    }
   ],
   "source": [
    "texto=\"\"\"Vivia há já não poucos anos algures num concelho do Ribatejo um pequeno lavrador e negociante de gado chamado Manuel Peres Vigário\"\"\"\n",
    "texto2=texto.split()\n",
    "lista=[]\n",
    "for palavra in texto2:\n",
    "    if len(palavra)>3:\n",
    "        lista.append(palavra)\n",
    "print(lista)\n"
   ]
  },
  {
   "cell_type": "markdown",
   "metadata": {},
   "source": [
    "#### c) Lista formada por pares do tipo (índice, valor) com os valores da lista dada:"
   ]
  },
  {
   "cell_type": "code",
   "execution_count": 6,
   "metadata": {},
   "outputs": [
    {
     "name": "stdout",
     "output_type": "stream",
     "text": [
      "[(1, 'anaconda'), (2, 'burro'), (3, 'cavalo'), (4, 'macaco')]\n"
     ]
    }
   ],
   "source": [
    "lista = ['anaconda', 'burro', 'cavalo', 'macaco']\n",
    "\n",
    "def Pares(lista):\n",
    "    listaRes=[]\n",
    "    i=1\n",
    "    for n in lista:\n",
    "        listaRes.append((i,n))\n",
    "        i=i+1 \n",
    "    return listaRes\n",
    "\n",
    "print(Pares(lista))"
   ]
  },
  {
   "cell_type": "markdown",
   "metadata": {},
   "source": [
    "### tpc-2. À semelhança do que foi feito nas aulas, realize as seguintes tarefas:"
   ]
  },
  {
   "cell_type": "markdown",
   "metadata": {},
   "source": [
    "#### a) Especifique uma função que dada uma string e uma substring não vazia, calcula  o número de vezes em que a substring aparece na string, sem que haja sobreposição de substrings:"
   ]
  },
  {
   "cell_type": "code",
   "execution_count": 12,
   "metadata": {},
   "outputs": [
    {
     "name": "stdout",
     "output_type": "stream",
     "text": [
      "2\n",
      "1\n",
      "0\n"
     ]
    }
   ],
   "source": [
    "def strCount(s, subs):\n",
    "    tamsubs=len(subs)\n",
    "    palavra= \"\"\n",
    "    res=0\n",
    "    for n in s:\n",
    "        palavra= s[:tamsubs]\n",
    "        if palavra==subs:\n",
    "            res=res+1\n",
    "        s=s[tamsubs:]\n",
    "\n",
    "    return res\n",
    "\n",
    "print(strCount(\"catcowcat\", \"cat\")) \n",
    "print(strCount(\"catcowcat\", \"cow\")) \n",
    "print(strCount(\"catcowcat\", \"dog\"))\n"
   ]
  },
  {
   "cell_type": "markdown",
   "metadata": {},
   "source": [
    "#### b) Especifique uma função que recebe uma lista de números inteiros positivos e devolve o menor produto que for possível calcular multiplicando os 3 menores inteiros da lista:"
   ]
  },
  {
   "cell_type": "code",
   "execution_count": 10,
   "metadata": {},
   "outputs": [
    {
     "name": "stdout",
     "output_type": "stream",
     "text": [
      "168\n"
     ]
    }
   ],
   "source": [
    "def produtoM3(lista):\n",
    "    lista.sort()\n",
    "    res=0\n",
    "    for n in lista:\n",
    "        res=lista[0] * lista[1] * lista[2]\n",
    "    return res\n",
    "\n",
    "print(produtoM3([12,3,7,10,12,8,9]))"
   ]
  },
  {
   "cell_type": "markdown",
   "metadata": {},
   "source": [
    "#### c) Especifique uma função que dado um número inteiro positivo, repetidamente adiciona os seus dígitos até obter apenas um dígito que é retornado como resultado:"
   ]
  },
  {
   "cell_type": "code",
   "execution_count": 13,
   "metadata": {},
   "outputs": [
    {
     "name": "stdout",
     "output_type": "stream",
     "text": [
      "2\n",
      "3\n"
     ]
    }
   ],
   "source": [
    "def reduxInt(n):\n",
    "    res=0\n",
    "    redux1=[]\n",
    "    redux2=[]\n",
    "    res2=0\n",
    "    while n>10:\n",
    "        resto=int(n%10)\n",
    "        redux1.append(resto)\n",
    "        n=int(n/10)\n",
    "        if n<10:\n",
    "            redux1.append(n)\n",
    "    for num in redux1:\n",
    "        res=res+num\n",
    "\n",
    "    if res>10:\n",
    "        while res>10:\n",
    "            resto=int(res%10)\n",
    "            redux2.append(resto)\n",
    "            res=int(res/10)\n",
    "            if res<10:\n",
    "                redux2.append(res)\n",
    "\n",
    "        for num in redux2:\n",
    "            res2=res2+num\n",
    "    \n",
    "    return res2\n",
    "    \n",
    "print(reduxInt(38))\n",
    "print(reduxInt(777))"
   ]
  },
  {
   "cell_type": "markdown",
   "metadata": {},
   "source": [
    "#### d) Especifique uma função que recebe duas strings, `string1` e `string2`, e devolve o índice da primeira ocorrência de `string2` em `string1`, caso não ocorra nenhuma vez a função deverá retornar `-1`:"
   ]
  },
  {
   "cell_type": "code",
   "execution_count": 14,
   "metadata": {},
   "outputs": [
    {
     "name": "stdout",
     "output_type": "stream",
     "text": [
      "13\n",
      "-1\n"
     ]
    }
   ],
   "source": [
    "\n",
    "def myIndexOf(s1, s2):\n",
    "    palavra=\"\"\n",
    "    i=0\n",
    "    indice=[]\n",
    "    encontrado=False\n",
    "    for n in s1:\n",
    "        if n != \" \":\n",
    "            i=i+1\n",
    "            palavra=palavra+n\n",
    "        \n",
    "        else:\n",
    "            if palavra==s2:\n",
    "                res=i-len(palavra)\n",
    "                encontrado=True\n",
    "                indice.append(res)\n",
    "            else:\n",
    "                i=i+1\n",
    "                palavra=\"\"\n",
    "\n",
    "        if encontrado==True:\n",
    "            result=indice[0]\n",
    "        else:\n",
    "            result= -1\n",
    "\n",
    "    return result\n",
    "\n",
    "print(myIndexOf(\"Hoje está um belo dia de sol!\", \"belo\"))\n",
    "print(myIndexOf(\"Hoje está um belo dia de sol!\", \"chuva\"))"
   ]
  },
  {
   "cell_type": "markdown",
   "metadata": {},
   "source": [
    "### tpc-3. A Rede Social\n",
    "\n",
    "Considere que a informação sobre uma rede social está armazenada numa lista de dicionários.\n",
    "\n",
    "Cada dicionário, correspondente a um _post_ e tem chaves `id`, `conteudo`, `autor`, `dataCriacao` e `comentarios`.\n",
    "Por sua vez, `comentarios` é uma lista de dicionários com chaves `comentario` e `autor`.\n",
    "\n",
    "Considere o seguinte exemplo:\n",
    "\n",
    "``` \n",
    "    MyFaceBook = [{\n",
    "        'id': 'p1', \n",
    "        'conteudo': 'A tarefa de avaliação é talvez a mais ingrata das tarefas que um professor\n",
    "    tem de realizar...', \n",
    "        'autor': 'jcr', \n",
    "        'dataCriacao': '2023-07-20', \n",
    "        'comentarios': [\n",
    "            {\n",
    "                'comentario': 'Completamente de acordo...',\n",
    "                'autor': 'prh'\n",
    "            },\n",
    "            {\n",
    "                'comentario': 'Mas há quem goste...',\n",
    "                'autor': 'jj'\n",
    "            }\n",
    "        ]},\n",
    "        {\n",
    "            'id': 'p2',\n",
    "            ...\n",
    "        },\n",
    "        ...\n",
    "        ]\n",
    "```"
   ]
  },
  {
   "cell_type": "markdown",
   "metadata": {},
   "source": [
    "Defina as seguintes funções de manipulação e consulta da rede social:"
   ]
  },
  {
   "cell_type": "markdown",
   "metadata": {},
   "source": [
    "#### a) `quantosPost`, que indica quantos posts estão registados:"
   ]
  },
  {
   "cell_type": "code",
   "execution_count": 28,
   "metadata": {},
   "outputs": [],
   "source": [
    "MyFaceBook = [{'id': 'p1', \n",
    "        'conteudo': 'A tarefa de avaliação é talvez a mais ingrata das tarefas que um professor tem de realizar...', \n",
    "        'autor': 'jcr', \n",
    "        'dataCriacao': '2023-07-20', \n",
    "        'comentarios': [{'comentario': 'Completamente de acordo...', 'autor': 'prh'}, {'comentario': 'Mas há quem goste...','autor': 'jj'}]},\n",
    "        {'id': 'p2', \n",
    "        'conteudo': 'A tarefa de avaliação é talvez a mais ingrata das tarefas que um professortem de realizar...', \n",
    "        'autor': 'jcr', \n",
    "        'dataCriacao': '2023-07-20', \n",
    "        'comentarios': [{'comentario': 'Completamente de acordo...', 'autor': 'prh'}, {'comentario': 'Mas há quem goste...','autor': 'jj'}]},\n",
    "        {'id': 'p3', \n",
    "        'conteudo': 'A tarefa de avaliação é talvez a mais ingrata das tarefas que um professortem de realizar...', \n",
    "        'autor': 'david', \n",
    "        'dataCriacao': '2023-07-20', \n",
    "        'comentarios': [{'comentario': 'Completamente de acordo...', 'autor': 'eva'}, {'comentario': 'Mas há quem goste...','autor': 'jj'}]}]"
   ]
  },
  {
   "cell_type": "code",
   "execution_count": 17,
   "metadata": {},
   "outputs": [
    {
     "name": "stdout",
     "output_type": "stream",
     "text": [
      "3\n"
     ]
    }
   ],
   "source": [
    "def quantosPosts(redeSocial):\n",
    "    n=0\n",
    "    for id in redeSocial:\n",
    "        n=n+1\n",
    "    return n\n",
    "\n",
    "print (quantosPosts(MyFaceBook))\n",
    "\n"
   ]
  },
  {
   "cell_type": "markdown",
   "metadata": {},
   "source": [
    "#### b)  `postsAutor`, que devolve a lista de posts de um determinado autor:"
   ]
  },
  {
   "cell_type": "code",
   "execution_count": 18,
   "metadata": {},
   "outputs": [
    {
     "name": "stdout",
     "output_type": "stream",
     "text": [
      "[{'id': 'p1', 'conteudo': 'A tarefa de avaliação é talvez a mais ingrata das tarefas que um professor tem de realizar...', 'autor': 'jcr', 'dataCriacao': '2023-07-20', 'comentarios': [{'comentario': 'Completamente de acordo...', 'autor': 'prh'}, {'comentario': 'Mas há quem goste...', 'autor': 'jj'}]}, {'id': 'p2', 'conteudo': 'A tarefa de avaliação é talvez a mais ingrata das tarefas que um professortem de realizar...', 'autor': 'jcr', 'dataCriacao': '2023-07-20', 'comentarios': [{'comentario': 'Completamente de acordo...', 'autor': 'prh'}, {'comentario': 'Mas há quem goste...', 'autor': 'jj'}]}]\n"
     ]
    }
   ],
   "source": [
    "def postsAutor(redeSocial, autor):\n",
    "    listapost=[]\n",
    "    for post in redeSocial:\n",
    "        if post['autor']==autor:\n",
    "            listapost.append(post)\n",
    "    return listapost\n",
    "\n",
    "print(postsAutor(MyFaceBook, \"jcr\"))\n"
   ]
  },
  {
   "cell_type": "markdown",
   "metadata": {},
   "source": [
    "#### c) `autores`, que devolve a lista de autores de posts ordenada alfabeticamente:"
   ]
  },
  {
   "cell_type": "code",
   "execution_count": 19,
   "metadata": {},
   "outputs": [
    {
     "name": "stdout",
     "output_type": "stream",
     "text": [
      "['david', 'jcr']\n"
     ]
    }
   ],
   "source": [
    "def autores(redeSocial):\n",
    "    lista=[]\n",
    "    for post in redeSocial:\n",
    "        if post['autor'] not in lista:\n",
    "            lista.append(post['autor'])\n",
    "    lista.sort()\n",
    "    return lista\n",
    "print (autores(MyFaceBook))\n"
   ]
  },
  {
   "cell_type": "markdown",
   "metadata": {},
   "source": [
    "#### d) `insPost`, que acrescenta um novo post à rede social a partir dos parâmetros recebidos e devolve a nova rede social. \n",
    "    \n",
    "O campo `id` devrá ser calculado a partir dos já existentes, por exemplo, se a rede tiver posts com id `p1`, `p2` e `p3`, o novo `id` deverá ser `p4`."
   ]
  },
  {
   "cell_type": "code",
   "execution_count": 20,
   "metadata": {},
   "outputs": [
    {
     "name": "stdout",
     "output_type": "stream",
     "text": [
      "[{'id': 'p1', 'conteudo': 'A tarefa de avaliação é talvez a mais ingrata das tarefas que um professor tem de realizar...', 'autor': 'jcr', 'dataCriacao': '2023-07-20', 'comentarios': [{'comentario': 'Completamente de acordo...', 'autor': 'prh'}, {'comentario': 'Mas há quem goste...', 'autor': 'jj'}]}, {'id': 'p2', 'conteudo': 'A tarefa de avaliação é talvez a mais ingrata das tarefas que um professortem de realizar...', 'autor': 'jcr', 'dataCriacao': '2023-07-20', 'comentarios': [{'comentario': 'Completamente de acordo...', 'autor': 'prh'}, {'comentario': 'Mas há quem goste...', 'autor': 'jj'}]}, {'id': 'p3', 'conteudo': 'A tarefa de avaliação é talvez a mais ingrata das tarefas que um professortem de realizar...', 'autor': 'david', 'dataCriacao': '2023-07-20', 'comentarios': [{'comentario': 'Completamente de acordo...', 'autor': 'eva'}, {'comentario': 'Mas há quem goste...', 'autor': 'jj'}]}, {'id': 'p4', 'conteudo': 'conteudo', 'autor': 'autor', 'dataCriacao': 'dataCriacao', 'comentarios': 'comentarios'}]\n"
     ]
    }
   ],
   "source": [
    "def insPost(redeSocial, conteudo, autor, dataCriacao, comentarios):\n",
    "    nome=\"p\"+str(quantosPosts(redeSocial)+1)\n",
    "    newpost = {'id': nome, 'conteudo': conteudo, 'autor': autor, 'dataCriacao': dataCriacao, 'comentarios': comentarios}\n",
    "    redeSocial.append(newpost)\n",
    "    return(redeSocial)\n",
    "\n",
    "print (insPost(MyFaceBook, 'conteudo', 'autor', 'dataCriacao', 'comentarios'))\n"
   ]
  },
  {
   "cell_type": "markdown",
   "metadata": {},
   "source": [
    "#### e)  `remPost`, que remove um post da rede, correspondente ao `id` recebido."
   ]
  },
  {
   "cell_type": "code",
   "execution_count": 21,
   "metadata": {},
   "outputs": [
    {
     "name": "stdout",
     "output_type": "stream",
     "text": [
      "[{'id': 'p1', 'conteudo': 'A tarefa de avaliação é talvez a mais ingrata das tarefas que um professor tem de realizar...', 'autor': 'jcr', 'dataCriacao': '2023-07-20', 'comentarios': [{'comentario': 'Completamente de acordo...', 'autor': 'prh'}, {'comentario': 'Mas há quem goste...', 'autor': 'jj'}]}, {'id': 'p3', 'conteudo': 'A tarefa de avaliação é talvez a mais ingrata das tarefas que um professortem de realizar...', 'autor': 'david', 'dataCriacao': '2023-07-20', 'comentarios': [{'comentario': 'Completamente de acordo...', 'autor': 'eva'}, {'comentario': 'Mas há quem goste...', 'autor': 'jj'}]}, {'id': 'p4', 'conteudo': 'conteudo', 'autor': 'autor', 'dataCriacao': 'dataCriacao', 'comentarios': 'comentarios'}]\n"
     ]
    }
   ],
   "source": [
    "def remPost(redeSocial, id):\n",
    "    novalista=[]\n",
    "    for post in redeSocial:\n",
    "        if post[\"id\"] != id:\n",
    "            novalista.append(post)\n",
    "    return novalista\n",
    "print(remPost(MyFaceBook, 'p2'))\n"
   ]
  },
  {
   "cell_type": "markdown",
   "metadata": {},
   "source": [
    "#### f) `postsPorAutor`, que devolve uma distribuição de posts por autor (à semelhança do que foi feito nas aulas)."
   ]
  },
  {
   "cell_type": "code",
   "execution_count": 22,
   "metadata": {},
   "outputs": [
    {
     "name": "stdout",
     "output_type": "stream",
     "text": [
      "[('jcr', {'id': 'p1', 'conteudo': 'A tarefa de avaliação é talvez a mais ingrata das tarefas que um professor tem de realizar...', 'autor': 'jcr', 'dataCriacao': '2023-07-20', 'comentarios': [{'comentario': 'Completamente de acordo...', 'autor': 'prh'}, {'comentario': 'Mas há quem goste...', 'autor': 'jj'}]}), ('jcr', {'id': 'p2', 'conteudo': 'A tarefa de avaliação é talvez a mais ingrata das tarefas que um professortem de realizar...', 'autor': 'jcr', 'dataCriacao': '2023-07-20', 'comentarios': [{'comentario': 'Completamente de acordo...', 'autor': 'prh'}, {'comentario': 'Mas há quem goste...', 'autor': 'jj'}]}), ('david', {'id': 'p3', 'conteudo': 'A tarefa de avaliação é talvez a mais ingrata das tarefas que um professortem de realizar...', 'autor': 'david', 'dataCriacao': '2023-07-20', 'comentarios': [{'comentario': 'Completamente de acordo...', 'autor': 'eva'}, {'comentario': 'Mas há quem goste...', 'autor': 'jj'}]}), ('autor', {'id': 'p4', 'conteudo': 'conteudo', 'autor': 'autor', 'dataCriacao': 'dataCriacao', 'comentarios': 'comentarios'})]\n"
     ]
    }
   ],
   "source": [
    "def Distribuição(redeSocial):\n",
    "    lista=[]\n",
    "    for post in redeSocial:\n",
    "        res=(post['autor'], post)\n",
    "        lista.append(res)\n",
    "    return lista\n",
    "print(Distribuição(MyFaceBook)) \n"
   ]
  },
  {
   "cell_type": "markdown",
   "metadata": {},
   "source": [
    "#### g) `comentadoPor`, que recebe um autor e devolve a lista de posts comentados por esse autor."
   ]
  },
  {
   "cell_type": "code",
   "execution_count": 31,
   "metadata": {},
   "outputs": [
    {
     "name": "stdout",
     "output_type": "stream",
     "text": [
      "[{'id': 'p3', 'conteudo': 'A tarefa de avaliação é talvez a mais ingrata das tarefas que um professortem de realizar...', 'autor': 'david', 'dataCriacao': '2023-07-20', 'comentarios': [{'comentario': 'Completamente de acordo...', 'autor': 'eva'}, {'comentario': 'Mas há quem goste...', 'autor': 'jj'}]}]\n"
     ]
    }
   ],
   "source": [
    "def comentadoPor(redeSocial, autor):\n",
    "    lista=[]\n",
    "    for post in redeSocial:\n",
    "        for comentario in post['comentarios']:\n",
    "            if comentario['autor']==autor:\n",
    "                lista.append(post)\n",
    "    return lista\n",
    "\n",
    "print(comentadoPor(MyFaceBook,'eva'))\n"
   ]
  }
 ],
 "metadata": {
  "kernelspec": {
   "display_name": "Python 3",
   "language": "python",
   "name": "python3"
  },
  "language_info": {
   "codemirror_mode": {
    "name": "ipython",
    "version": 3
   },
   "file_extension": ".py",
   "mimetype": "text/x-python",
   "name": "python",
   "nbconvert_exporter": "python",
   "pygments_lexer": "ipython3",
   "version": "3.11.5"
  },
  "orig_nbformat": 4
 },
 "nbformat": 4,
 "nbformat_minor": 2
}
